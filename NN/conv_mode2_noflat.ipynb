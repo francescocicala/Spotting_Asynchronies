{
 "cells": [
  {
   "cell_type": "code",
   "execution_count": 1,
   "metadata": {},
   "outputs": [],
   "source": [
    "import numpy as np"
   ]
  },
  {
   "cell_type": "code",
   "execution_count": 19,
   "metadata": {},
   "outputs": [],
   "source": [
    "net_name = \"Conv_2_noflat\""
   ]
  },
  {
   "cell_type": "code",
   "execution_count": 3,
   "metadata": {},
   "outputs": [
    {
     "name": "stdout",
     "output_type": "stream",
     "text": [
      "[name: \"/device:CPU:0\"\n",
      "device_type: \"CPU\"\n",
      "memory_limit: 268435456\n",
      "locality {\n",
      "}\n",
      "incarnation: 12741452942980518173\n",
      ", name: \"/device:GPU:0\"\n",
      "device_type: \"GPU\"\n",
      "memory_limit: 3428777984\n",
      "locality {\n",
      "  bus_id: 1\n",
      "  links {\n",
      "  }\n",
      "}\n",
      "incarnation: 9044237584332621117\n",
      "physical_device_desc: \"device: 0, name: GeForce GTX 1050, pci bus id: 0000:01:00.0, compute capability: 6.1\"\n",
      "]\n"
     ]
    }
   ],
   "source": [
    "from tensorflow.python.client import device_lib\n",
    "print(device_lib.list_local_devices())"
   ]
  },
  {
   "cell_type": "code",
   "execution_count": 6,
   "metadata": {},
   "outputs": [],
   "source": [
    "mode = 2\n",
    "\n",
    "data_directory = \"../DATASET/mode_\" + str(mode) + \"/downsampling/\"\n",
    "\n",
    "X_train = np.load(data_directory + \"X_train.npy\")\n",
    "y_train = np.load(data_directory + \"y_train.npy\")\n",
    "\n",
    "X_val = np.load(data_directory + \"X_val.npy\")\n",
    "y_val = np.load(data_directory + \"y_val.npy\")\n",
    "\n",
    "X_test = np.load(data_directory + \"X_test.npy\")\n",
    "y_test = np.load(data_directory + \"y_test.npy\")"
   ]
  },
  {
   "cell_type": "code",
   "execution_count": 7,
   "metadata": {},
   "outputs": [
    {
     "name": "stdout",
     "output_type": "stream",
     "text": [
      "(10595, 250, 2)\n",
      "(2659, 250, 2)\n",
      "(4433, 250, 2)\n"
     ]
    }
   ],
   "source": [
    "print(X_train.shape)\n",
    "print(X_val.shape)\n",
    "print(X_test.shape)"
   ]
  },
  {
   "cell_type": "code",
   "execution_count": 12,
   "metadata": {},
   "outputs": [],
   "source": [
    "from keras.models import Sequential\n",
    "from keras.layers import Dense, BatchNormalization, Dropout\n",
    "from keras.layers import Embedding\n",
    "from keras.layers import Conv1D, GlobalAveragePooling1D, MaxPooling1D\n",
    "\n",
    "seq_length = 250\n",
    "\n",
    "model = Sequential()\n",
    "model.add(Conv1D(64, 20, strides=2, activation='relu', input_shape=(seq_length, 2)))\n",
    "model.add(BatchNormalization())\n",
    "\n",
    "model.add(Conv1D(64, 20, strides=2, activation='relu'))\n",
    "model.add(BatchNormalization())\n",
    "model.add(MaxPooling1D(4))\n",
    "\n",
    "model.add(Conv1D(128, 4, strides=2, activation='relu'))\n",
    "model.add(BatchNormalization())\n",
    "\n",
    "model.add(Conv1D(128, 4, strides=2, activation='relu'))\n",
    "model.add(BatchNormalization())\n",
    "model.add(GlobalAveragePooling1D())\n",
    "\n",
    "model.add(Dense(128, activation='relu'))\n",
    "model.add(Dropout(0.6))\n",
    "\n",
    "model.add(Dense(1, activation='sigmoid'))\n",
    "\n",
    "model.compile(loss='binary_crossentropy',\n",
    "              optimizer='rmsprop',\n",
    "              metrics=['accuracy'])"
   ]
  },
  {
   "cell_type": "code",
   "execution_count": 13,
   "metadata": {},
   "outputs": [
    {
     "name": "stdout",
     "output_type": "stream",
     "text": [
      "Train on 10595 samples, validate on 2659 samples\n",
      "Epoch 1/25\n",
      "10595/10595 [==============================] - 4s 393us/step - loss: 0.4341 - acc: 0.8366 - val_loss: 0.5713 - val_acc: 0.8597\n",
      "Epoch 2/25\n",
      "10595/10595 [==============================] - 2s 229us/step - loss: 0.3440 - acc: 0.8728 - val_loss: 0.3832 - val_acc: 0.8672\n",
      "Epoch 3/25\n",
      "10595/10595 [==============================] - 2s 233us/step - loss: 0.3168 - acc: 0.8847 - val_loss: 0.3614 - val_acc: 0.8710\n",
      "Epoch 4/25\n",
      "10595/10595 [==============================] - 2s 228us/step - loss: 0.3048 - acc: 0.8872 - val_loss: 0.3054 - val_acc: 0.8909\n",
      "Epoch 5/25\n",
      "10595/10595 [==============================] - 2s 233us/step - loss: 0.2974 - acc: 0.8899 - val_loss: 0.2813 - val_acc: 0.9041\n",
      "Epoch 6/25\n",
      "10595/10595 [==============================] - 2s 233us/step - loss: 0.2879 - acc: 0.8918 - val_loss: 0.2757 - val_acc: 0.9000\n",
      "Epoch 7/25\n",
      "10595/10595 [==============================] - 2s 232us/step - loss: 0.2878 - acc: 0.8931 - val_loss: 0.3668 - val_acc: 0.9049\n",
      "Epoch 8/25\n",
      "10595/10595 [==============================] - 2s 228us/step - loss: 0.2825 - acc: 0.8969 - val_loss: 0.2698 - val_acc: 0.9124\n",
      "Epoch 9/25\n",
      "10595/10595 [==============================] - 2s 223us/step - loss: 0.2822 - acc: 0.8927 - val_loss: 0.2610 - val_acc: 0.9022\n",
      "Epoch 10/25\n",
      "10595/10595 [==============================] - 2s 226us/step - loss: 0.2801 - acc: 0.8956 - val_loss: 0.3281 - val_acc: 0.8740\n",
      "Epoch 11/25\n",
      "10595/10595 [==============================] - 2s 223us/step - loss: 0.2757 - acc: 0.8971 - val_loss: 0.3377 - val_acc: 0.9003\n",
      "Epoch 12/25\n",
      "10595/10595 [==============================] - 2s 222us/step - loss: 0.2826 - acc: 0.8979 - val_loss: 0.2587 - val_acc: 0.9071\n",
      "Epoch 13/25\n",
      "10595/10595 [==============================] - 2s 223us/step - loss: 0.2675 - acc: 0.9000 - val_loss: 0.2676 - val_acc: 0.9052\n",
      "Epoch 14/25\n",
      "10595/10595 [==============================] - 2s 224us/step - loss: 0.2646 - acc: 0.9000 - val_loss: 0.2879 - val_acc: 0.8973\n",
      "Epoch 15/25\n",
      "10595/10595 [==============================] - 2s 224us/step - loss: 0.2654 - acc: 0.9006 - val_loss: 0.2938 - val_acc: 0.8872\n",
      "Epoch 16/25\n",
      "10595/10595 [==============================] - 2s 225us/step - loss: 0.2630 - acc: 0.9016 - val_loss: 0.3160 - val_acc: 0.9045\n",
      "Epoch 17/25\n",
      "10595/10595 [==============================] - 2s 228us/step - loss: 0.2559 - acc: 0.9033 - val_loss: 0.2629 - val_acc: 0.9052\n",
      "Epoch 18/25\n",
      "10595/10595 [==============================] - 2s 225us/step - loss: 0.2643 - acc: 0.9033 - val_loss: 0.2598 - val_acc: 0.9124\n",
      "Epoch 19/25\n",
      "10595/10595 [==============================] - 2s 223us/step - loss: 0.2625 - acc: 0.9025 - val_loss: 0.2622 - val_acc: 0.9037\n",
      "Epoch 20/25\n",
      "10595/10595 [==============================] - 2s 223us/step - loss: 0.2597 - acc: 0.9032 - val_loss: 0.3347 - val_acc: 0.8939\n",
      "Epoch 21/25\n",
      "10595/10595 [==============================] - 2s 223us/step - loss: 0.2575 - acc: 0.9051 - val_loss: 0.2772 - val_acc: 0.9082\n",
      "Epoch 22/25\n",
      "10595/10595 [==============================] - 2s 224us/step - loss: 0.2541 - acc: 0.9062 - val_loss: 0.3333 - val_acc: 0.9060\n",
      "Epoch 23/25\n",
      "10595/10595 [==============================] - 2s 225us/step - loss: 0.2537 - acc: 0.9054 - val_loss: 0.3270 - val_acc: 0.9056\n",
      "Epoch 24/25\n",
      "10595/10595 [==============================] - 2s 231us/step - loss: 0.2563 - acc: 0.9053 - val_loss: 0.2816 - val_acc: 0.9060\n",
      "Epoch 25/25\n",
      "10595/10595 [==============================] - 2s 223us/step - loss: 0.2489 - acc: 0.9069 - val_loss: 0.2700 - val_acc: 0.9112\n"
     ]
    }
   ],
   "source": [
    "history = model.fit(X_train, y_train, batch_size=32, epochs=25, validation_data=(X_val, y_val), shuffle=True)"
   ]
  },
  {
   "cell_type": "code",
   "execution_count": 14,
   "metadata": {},
   "outputs": [
    {
     "name": "stdout",
     "output_type": "stream",
     "text": [
      "2659/2659 [==============================] - 0s 99us/step\n",
      "Validation loss: 0.26997523843659277\n",
      "Validation accuracy: 0.9112448288830387\n"
     ]
    }
   ],
   "source": [
    "score = model.evaluate(X_val, y_val, verbose=1, batch_size=16)\n",
    "print('Validation loss:', score[0])\n",
    "print('Validation accuracy:', score[1])"
   ]
  },
  {
   "cell_type": "code",
   "execution_count": 16,
   "metadata": {},
   "outputs": [
    {
     "data": {
      "image/png": "[encoded data removed]",
      "text/plain": [
       "<Figure size 432x288 with 1 Axes>"
      ]
     },
     "metadata": {
      "needs_background": "light"
     },
     "output_type": "display_data"
    }
   ],
   "source": [
    "import matplotlib.pyplot as plt \n",
    "\n",
    "# Plot training & validation loss values\n",
    "plt.plot(history.history['loss'])\n",
    "plt.plot(history.history['val_loss'])\n",
    "plt.title('Model loss')\n",
    "plt.ylabel('Loss')\n",
    "plt.xlabel('Epoch')\n",
    "plt.legend(['Train', 'Validation'], loc='upper left')\n",
    "plt.show()"
   ]
  },
  {
   "cell_type": "code",
   "execution_count": 18,
   "metadata": {},
   "outputs": [
    {
     "name": "stdout",
     "output_type": "stream",
     "text": [
      "0.8844765342960289\n",
      "0.5456570155902004\n",
      "0.5909310178485286\n"
     ]
    }
   ],
   "source": [
    "y_val_predict = (model.predict(X_val) > 0.5).astype(np.uint8)\n",
    "\n",
    "from sklearn.metrics import recall_score, precision_score, fbeta_score\n",
    "\n",
    "print(precision_score(y_val, y_val_predict))\n",
    "print(recall_score(y_val, y_val_predict))\n",
    "print(fbeta_score(y_val, y_val_predict, 2))"
   ]
  },
  {
   "cell_type": "code",
   "execution_count": 20,
   "metadata": {},
   "outputs": [],
   "source": [
    "model.save(\"Models/mode_\" + str(mode) + \"/\" + net_name + \".h5\")"
   ]
  },
  {
   "cell_type": "code",
   "execution_count": 68,
   "metadata": {},
   "outputs": [],
   "source": [
    "from keras.utils import plot_model\n",
    "plot_model(model, to_file=net_name+\".png\") "
   ]
  },
  {
   "cell_type": "code",
   "execution_count": null,
   "metadata": {},
   "outputs": [],
   "source": []
  }
 ],
 "metadata": {
  "kernelspec": {
   "display_name": "Python 3",
   "language": "python",
   "name": "python3"
  },
  "language_info": {
   "codemirror_mode": {
    "name": "ipython",
    "version": 3
   },
   "file_extension": ".py",
   "mimetype": "text/x-python",
   "name": "python",
   "nbconvert_exporter": "python",
   "pygments_lexer": "ipython3",
   "version": "3.6.6"
  }
 },
 "nbformat": 4,
 "nbformat_minor": 2
}
