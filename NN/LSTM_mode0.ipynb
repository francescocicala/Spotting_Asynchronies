{
 "cells": [
  {
   "cell_type": "code",
   "execution_count": 3,
   "metadata": {},
   "outputs": [],
   "source": [
    "import numpy as np"
   ]
  },
  {
   "cell_type": "code",
   "execution_count": 8,
   "metadata": {},
   "outputs": [
    {
     "name": "stdout",
     "output_type": "stream",
     "text": [
      "[name: \"/device:CPU:0\"\n",
      "device_type: \"CPU\"\n",
      "memory_limit: 268435456\n",
      "locality {\n",
      "}\n",
      "incarnation: 14630822120710919653\n",
      ", name: \"/device:GPU:0\"\n",
      "device_type: \"GPU\"\n",
      "memory_limit: 3447128064\n",
      "locality {\n",
      "  bus_id: 1\n",
      "  links {\n",
      "  }\n",
      "}\n",
      "incarnation: 16254351882020772813\n",
      "physical_device_desc: \"device: 0, name: GeForce GTX 1050, pci bus id: 0000:01:00.0, compute capability: 6.1\"\n",
      "]\n"
     ]
    }
   ],
   "source": [
    "from tensorflow.python.client import device_lib\n",
    "print(device_lib.list_local_devices())"
   ]
  },
  {
   "cell_type": "code",
   "execution_count": 4,
   "metadata": {},
   "outputs": [],
   "source": [
    "mode = 0\n",
    "\n",
    "data_directory = \"../DATASET/mode_\" + str(mode) + \"/downsampling/\"\n",
    "\n",
    "X_train = np.load(data_directory + \"X_train.npy\")\n",
    "y_train = np.load(data_directory + \"y_train.npy\")\n",
    "\n",
    "X_val = np.load(data_directory + \"X_val.npy\")\n",
    "y_val = np.load(data_directory + \"y_val.npy\")\n",
    "\n",
    "X_test = np.load(data_directory + \"X_test.npy\")\n",
    "y_test = np.load(data_directory + \"y_test.npy\")"
   ]
  },
  {
   "cell_type": "code",
   "execution_count": 5,
   "metadata": {},
   "outputs": [
    {
     "name": "stdout",
     "output_type": "stream",
     "text": [
      "(2512, 250, 2)\n",
      "(640, 250, 2)\n",
      "(1022, 250, 2)\n"
     ]
    }
   ],
   "source": [
    "print(X_train.shape)\n",
    "print(X_val.shape)\n",
    "print(X_test.shape)"
   ]
  },
  {
   "cell_type": "code",
   "execution_count": 6,
   "metadata": {},
   "outputs": [],
   "source": [
    "X_train_flat = X_train.reshape(-1, 500)\n",
    "X_val_flat = X_val.reshape(-1, 500)\n",
    "X_test_flat = X_test.reshape(-1, 500)"
   ]
  },
  {
   "cell_type": "code",
   "execution_count": 7,
   "metadata": {},
   "outputs": [
    {
     "data": {
      "text/plain": [
       "(2512, 500)"
      ]
     },
     "execution_count": 7,
     "metadata": {},
     "output_type": "execute_result"
    }
   ],
   "source": [
    "X_train_flat.shape"
   ]
  },
  {
   "cell_type": "code",
   "execution_count": 16,
   "metadata": {},
   "outputs": [],
   "source": [
    "from keras.models import Sequential\n",
    "from keras.layers import Dense, Dropout\n",
    "from keras.layers import Embedding\n",
    "from keras.layers import LSTM\n",
    "\n",
    "max_features = 1024\n",
    "\n",
    "model = Sequential()\n",
    "model.add(Embedding(max_features, output_dim=256))\n",
    "model.add(LSTM(128))\n",
    "model.add(Dropout(0.5))\n",
    "model.add(Dense(1, activation='sigmoid'))\n",
    "\n",
    "model.compile(loss='binary_crossentropy',\n",
    "              optimizer='rmsprop',\n",
    "              metrics=['accuracy'])\n",
    "\n"
   ]
  },
  {
   "cell_type": "code",
   "execution_count": 17,
   "metadata": {},
   "outputs": [
    {
     "name": "stdout",
     "output_type": "stream",
     "text": [
      "Train on 2512 samples, validate on 640 samples\n",
      "Epoch 1/20\n",
      "2512/2512 [==============================] - 19s 8ms/step - loss: 0.4685 - acc: 0.8113 - val_loss: 0.4964 - val_acc: 0.8172\n",
      "Epoch 2/20\n",
      "2512/2512 [==============================] - 19s 7ms/step - loss: 0.4278 - acc: 0.8276 - val_loss: 0.4504 - val_acc: 0.8203\n",
      "Epoch 3/20\n",
      "2512/2512 [==============================] - 19s 7ms/step - loss: 0.4211 - acc: 0.8272 - val_loss: 0.4553 - val_acc: 0.8234\n",
      "Epoch 4/20\n",
      "2512/2512 [==============================] - 19s 7ms/step - loss: 0.4231 - acc: 0.8336 - val_loss: 0.4485 - val_acc: 0.8281\n",
      "Epoch 5/20\n",
      "2512/2512 [==============================] - 19s 7ms/step - loss: 0.4180 - acc: 0.8420 - val_loss: 0.4573 - val_acc: 0.8094\n",
      "Epoch 6/20\n",
      "2512/2512 [==============================] - 19s 7ms/step - loss: 0.4226 - acc: 0.8436 - val_loss: 0.4581 - val_acc: 0.8234\n",
      "Epoch 7/20\n",
      "2512/2512 [==============================] - 19s 7ms/step - loss: 0.4223 - acc: 0.8388 - val_loss: 0.4656 - val_acc: 0.8234\n",
      "Epoch 8/20\n",
      "2512/2512 [==============================] - 18s 7ms/step - loss: 0.4195 - acc: 0.8392 - val_loss: 0.4582 - val_acc: 0.8078\n",
      "Epoch 9/20\n",
      "2512/2512 [==============================] - 18s 7ms/step - loss: 0.4191 - acc: 0.8412 - val_loss: 0.4563 - val_acc: 0.8266\n",
      "Epoch 10/20\n",
      "2512/2512 [==============================] - 19s 7ms/step - loss: 0.4211 - acc: 0.8372 - val_loss: 0.4461 - val_acc: 0.8250\n",
      "Epoch 11/20\n",
      "2512/2512 [==============================] - 20s 8ms/step - loss: 0.4211 - acc: 0.8420 - val_loss: 0.4558 - val_acc: 0.8344\n",
      "Epoch 12/20\n",
      "2512/2512 [==============================] - 20s 8ms/step - loss: 0.4177 - acc: 0.8400 - val_loss: 0.4517 - val_acc: 0.8141\n",
      "Epoch 13/20\n",
      "2512/2512 [==============================] - 18s 7ms/step - loss: 0.4211 - acc: 0.8312 - val_loss: 0.4987 - val_acc: 0.8141\n",
      "Epoch 14/20\n",
      "2512/2512 [==============================] - 18s 7ms/step - loss: 0.4186 - acc: 0.8364 - val_loss: 0.4528 - val_acc: 0.8109\n",
      "Epoch 15/20\n",
      "2512/2512 [==============================] - 18s 7ms/step - loss: 0.4205 - acc: 0.8439 - val_loss: 0.4506 - val_acc: 0.8234\n",
      "Epoch 16/20\n",
      "2512/2512 [==============================] - 18s 7ms/step - loss: 0.4209 - acc: 0.8352 - val_loss: 0.4494 - val_acc: 0.8156\n",
      "Epoch 17/20\n",
      "2512/2512 [==============================] - 18s 7ms/step - loss: 0.4119 - acc: 0.8451 - val_loss: 0.4395 - val_acc: 0.8359\n",
      "Epoch 18/20\n",
      "2512/2512 [==============================] - 18s 7ms/step - loss: 0.4078 - acc: 0.8507 - val_loss: 0.4698 - val_acc: 0.8219\n",
      "Epoch 19/20\n",
      "2512/2512 [==============================] - 18s 7ms/step - loss: 0.4117 - acc: 0.8507 - val_loss: 0.4420 - val_acc: 0.8344\n",
      "Epoch 20/20\n",
      "2512/2512 [==============================] - 18s 7ms/step - loss: 0.4077 - acc: 0.8479 - val_loss: 0.4750 - val_acc: 0.8203\n"
     ]
    }
   ],
   "source": [
    "history = model.fit(X_train_flat, y_train, batch_size=64, epochs=20, validation_data=(X_val_flat, y_val), shuffle=True)"
   ]
  },
  {
   "cell_type": "code",
   "execution_count": 18,
   "metadata": {},
   "outputs": [
    {
     "name": "stdout",
     "output_type": "stream",
     "text": [
      "640/640 [==============================] - 1s 1ms/step\n",
      "Validation loss: 0.47499447762966157\n",
      "Validation accuracy: 0.8203125\n"
     ]
    }
   ],
   "source": [
    "score = model.evaluate(X_val_flat, y_val, verbose=1, batch_size=64)\n",
    "print('Validation loss:', score[0])\n",
    "print('Validation accuracy:', score[1])"
   ]
  },
  {
   "cell_type": "code",
   "execution_count": 19,
   "metadata": {},
   "outputs": [
    {
     "data": {
      "image/png": "[encoded data removed]",
      "text/plain": [
       "<Figure size 432x288 with 1 Axes>"
      ]
     },
     "metadata": {
      "needs_background": "light"
     },
     "output_type": "display_data"
    }
   ],
   "source": [
    "import matplotlib.pyplot as plt \n",
    "\n",
    "# Plot training & validation loss values\n",
    "plt.plot(history.history['loss'])\n",
    "plt.plot(history.history['val_loss'])\n",
    "plt.title('Model loss')\n",
    "plt.ylabel('Loss')\n",
    "plt.xlabel('Epoch')\n",
    "plt.legend(['Train', 'Validation'], loc='upper left')\n",
    "plt.show()"
   ]
  },
  {
   "cell_type": "code",
   "execution_count": 43,
   "metadata": {},
   "outputs": [
    {
     "name": "stderr",
     "output_type": "stream",
     "text": [
      "/home/francesco/anaconda3/envs/keras/lib/python3.6/site-packages/sklearn/metrics/classification.py:1143: UndefinedMetricWarning: F-score is ill-defined and being set to 0.0 due to no predicted samples.\n",
      "  'precision', 'predicted', average, warn_for)\n"
     ]
    },
    {
     "name": "stdout",
     "output_type": "stream",
     "text": [
      "Validation: \n",
      "Threshold:  0.2871717171717172\n",
      "Precision: \t 0.8172920065252854\n",
      "Recall: \t 0.9920792079207921\n",
      "F2: \t\t 0.9513862514242312\n"
     ]
    }
   ],
   "source": [
    "from sklearn.metrics import recall_score, precision_score, fbeta_score\n",
    "\n",
    "def best_threshold(X_val, y_val):\n",
    "    predictions = model.predict(X_val)\n",
    "    \n",
    "    best_f2 = 0\n",
    "    for thresh in np.linspace(0.01, 0.99, 100):\n",
    "        y_val_predict = (predictions > thresh).astype(np.uint8)\n",
    "        \n",
    "        f2 = fbeta_score(y_val, y_val_predict, beta=2)\n",
    "\n",
    "        if f2 > best_f2:\n",
    "            best_f2 = f2\n",
    "            best_thresh = thresh\n",
    "    return best_thresh\n",
    "\n",
    "threshold = best_threshold(X_val_flat, y_val)\n",
    "y_val_predict = (model.predict(X_val_flat) > threshold).astype(np.uint8)\n",
    "\n",
    "print(\"Validation: \")\n",
    "print(\"Threshold: \", threshold)\n",
    "print(\"Precision: \\t\", precision_score(y_val, y_val_predict))\n",
    "print(\"Recall: \\t\", recall_score(y_val, y_val_predict))\n",
    "print(\"F2: \\t\\t\", fbeta_score(y_val, y_val_predict, beta=2))"
   ]
  },
  {
   "cell_type": "code",
   "execution_count": 44,
   "metadata": {},
   "outputs": [],
   "source": [
    "model.save(\"Models/mode_\" + str(mode) + \"/LSTM.h5\")"
   ]
  },
  {
   "cell_type": "code",
   "execution_count": 45,
   "metadata": {},
   "outputs": [],
   "source": [
    "from keras.utils import plot_model\n",
    "plot_model(model, to_file='LSTMmode0.png') "
   ]
  },
  {
   "cell_type": "code",
   "execution_count": 47,
   "metadata": {},
   "outputs": [
    {
     "name": "stdout",
     "output_type": "stream",
     "text": [
      "TEST: \n",
      "Threshold:  0.2871717171717172\n",
      "Precision: \t 0.8252032520325203\n",
      "Recall: \t 0.9914529914529915\n",
      "F2: \t\t 0.9530516431924883\n"
     ]
    }
   ],
   "source": [
    "# TEST\n",
    "y_test_predict = (model.predict(X_test_flat) > threshold).astype(np.uint8) \n",
    "print(\"TEST: \")\n",
    "print(\"Threshold: \", threshold)\n",
    "print(\"Precision: \\t\", precision_score(y_test, y_test_predict))\n",
    "print(\"Recall: \\t\", recall_score(y_test, y_test_predict))\n",
    "print(\"F2: \\t\\t\", fbeta_score(y_test, y_test_predict, beta=2))"
   ]
  },
  {
   "cell_type": "code",
   "execution_count": null,
   "metadata": {},
   "outputs": [],
   "source": []
  }
 ],
 "metadata": {
  "kernelspec": {
   "display_name": "Python 3",
   "language": "python",
   "name": "python3"
  },
  "language_info": {
   "codemirror_mode": {
    "name": "ipython",
    "version": 3
   },
   "file_extension": ".py",
   "mimetype": "text/x-python",
   "name": "python",
   "nbconvert_exporter": "python",
   "pygments_lexer": "ipython3",
   "version": "3.6.6"
  }
 },
 "nbformat": 4,
 "nbformat_minor": 2
}
